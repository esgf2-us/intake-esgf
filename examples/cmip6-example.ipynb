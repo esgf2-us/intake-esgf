{
 "cells": [
  {
   "cell_type": "markdown",
   "id": "60c72441-5819-4002-8283-253652bf3a6d",
   "metadata": {},
   "source": [
    "# CMIP6 Diagnostics with Intake-ESGF\n",
    "In this example, we show how to use intake-esgf to search for CMIP6 data, load our data into xarray datasets, and visualize using matplotlib."
   ]
  },
  {
   "cell_type": "code",
   "execution_count": null,
   "id": "7f972cac-62a8-4e98-9c67-5a046854f0fc",
   "metadata": {},
   "outputs": [],
   "source": [
    "!pip install datatree"
   ]
  },
  {
   "cell_type": "markdown",
   "id": "9d7bf492-eab9-4ebc-aedf-5ea631ead7e9",
   "metadata": {},
   "source": [
    "## Imports"
   ]
  },
  {
   "cell_type": "code",
   "execution_count": 1,
   "id": "3cd29717-a4c4-41dc-83b3-88e34f0b98b2",
   "metadata": {},
   "outputs": [
    {
     "ename": "ModuleNotFoundError",
     "evalue": "No module named 'datatree'",
     "output_type": "error",
     "traceback": [
      "\u001b[0;31m---------------------------------------------------------------------------\u001b[0m",
      "\u001b[0;31mModuleNotFoundError\u001b[0m                       Traceback (most recent call last)",
      "Cell \u001b[0;32mIn[1], line 3\u001b[0m\n\u001b[1;32m      1\u001b[0m \u001b[38;5;28;01mimport\u001b[39;00m \u001b[38;5;21;01mintake_esgf\u001b[39;00m\n\u001b[1;32m      2\u001b[0m \u001b[38;5;28;01mimport\u001b[39;00m \u001b[38;5;21;01mmatplotlib\u001b[39;00m \u001b[38;5;28;01mas\u001b[39;00m \u001b[38;5;21;01mmpl\u001b[39;00m\n\u001b[0;32m----> 3\u001b[0m \u001b[38;5;28;01mfrom\u001b[39;00m \u001b[38;5;21;01mdatatree\u001b[39;00m \u001b[38;5;28;01mimport\u001b[39;00m DataTree\n\u001b[1;32m      5\u001b[0m \u001b[38;5;66;03m# Set the matplotlib default font size\u001b[39;00m\n\u001b[1;32m      6\u001b[0m mpl\u001b[38;5;241m.\u001b[39mrcParams[\u001b[38;5;124m'\u001b[39m\u001b[38;5;124mfont.size\u001b[39m\u001b[38;5;124m'\u001b[39m] \u001b[38;5;241m=\u001b[39m \u001b[38;5;241m16\u001b[39m\n",
      "\u001b[0;31mModuleNotFoundError\u001b[0m: No module named 'datatree'"
     ]
    }
   ],
   "source": [
    "import intake_esgf\n",
    "import matplotlib as mpl\n",
    "from datatree import DataTree\n",
    "\n",
    "# Set the matplotlib default font size\n",
    "mpl.rcParams['font.size'] = 16"
   ]
  },
  {
   "cell_type": "markdown",
   "id": "9918a02d-c099-4490-883f-e7c85c1b2448",
   "metadata": {},
   "source": [
    "## Setup the Catalog"
   ]
  },
  {
   "cell_type": "code",
   "execution_count": 2,
   "id": "1c01a767-c248-49b8-97ad-1234b5ffc0a9",
   "metadata": {},
   "outputs": [
    {
     "data": {
      "text/plain": [
       "Perform a search() to populate the catalog."
      ]
     },
     "execution_count": 2,
     "metadata": {},
     "output_type": "execute_result"
    }
   ],
   "source": [
    "cat = intake_esgf.catalog.ESGFCatalog()\n",
    "cat"
   ]
  },
  {
   "cell_type": "markdown",
   "id": "2b03adf8-6f4d-452a-80b5-0f472c439c36",
   "metadata": {},
   "source": [
    "### Search for CMIP6 Experiments"
   ]
  },
  {
   "cell_type": "code",
   "execution_count": 3,
   "id": "53190f3a-c315-4cf9-93d8-115c618f5cc0",
   "metadata": {
    "scrolled": true
   },
   "outputs": [
    {
     "data": {
      "application/vnd.jupyter.widget-view+json": {
       "model_id": "b9fd62a010ef47dc9f3d003b48d6274a",
       "version_major": 2,
       "version_minor": 0
      },
      "text/plain": [
       "   Searching indices:   0%|          |0/2 [       ?index/s]"
      ]
     },
     "metadata": {},
     "output_type": "display_data"
    },
    {
     "data": {
      "text/plain": [
       "Summary information for 3 results:\n",
       "mip_era                               [CMIP6]\n",
       "experiment_id                    [historical]\n",
       "source_id                             [CESM2]\n",
       "institution_id                         [NCAR]\n",
       "table_id                           [fx, Lmon]\n",
       "member_id                          [r1i1p1f1]\n",
       "grid_label                               [gn]\n",
       "variable_id           [areacella, sftlf, gpp]\n",
       "activity_drs                           [CMIP]\n",
       "project                               [CMIP6]\n",
       "datetime_stop     [nan, 2014-12-15T12:00:00Z]\n",
       "datetime_start    [nan, 1850-01-15T11:44:59Z]\n",
       "dtype: object"
      ]
     },
     "execution_count": 3,
     "metadata": {},
     "output_type": "execute_result"
    }
   ],
   "source": [
    "subset = cat.search(\n",
    "        activity_id=\"CMIP\",\n",
    "        experiment_id=\"historical\",\n",
    "        source_id=\"CESM2\",\n",
    "        variable_id=[\"gpp\", \"areacella\", \"sftlf\"],\n",
    "        member_id=[\"r1i1p1f1\"],\n",
    ")\n",
    "subset"
   ]
  },
  {
   "cell_type": "markdown",
   "id": "dcaadf16-3d59-4076-ad4f-068610fff2b4",
   "metadata": {},
   "source": [
    "## Load Our Datasets in Xarray\n",
    "We use xarray here to access the datasets. The `.to_dataset_dict()` method loads the different facets into a dictionary of datasets, cacheing the data to the `~/.esgf` directory on your local filesystem by default."
   ]
  },
  {
   "cell_type": "code",
   "execution_count": 4,
   "id": "5680020e-daf3-45eb-8b7d-45f8f5382b5a",
   "metadata": {},
   "outputs": [
    {
     "data": {
      "application/vnd.jupyter.widget-view+json": {
       "model_id": "192c4850fded44a79fc6a6261f272762",
       "version_major": 2,
       "version_minor": 0
      },
      "text/plain": [
       "Adding cell measures:   0%|          |0/3 [     ?dataset/s]"
      ]
     },
     "metadata": {},
     "output_type": "display_data"
    },
    {
     "ename": "KeyError",
     "evalue": "'areacella'",
     "output_type": "error",
     "traceback": [
      "\u001b[0;31m---------------------------------------------------------------------------\u001b[0m",
      "\u001b[0;31mKeyError\u001b[0m                                  Traceback (most recent call last)",
      "Cell \u001b[0;32mIn[4], line 1\u001b[0m\n\u001b[0;32m----> 1\u001b[0m dsets \u001b[38;5;241m=\u001b[39m \u001b[43msubset\u001b[49m\u001b[38;5;241;43m.\u001b[39;49m\u001b[43mto_dataset_dict\u001b[49m\u001b[43m(\u001b[49m\u001b[43m)\u001b[49m\n",
      "File \u001b[0;32m~/esg/git-repos/intake-esgf/intake_esgf/catalog.py:699\u001b[0m, in \u001b[0;36mESGFCatalog.to_dataset_dict\u001b[0;34m(self, minimal_keys, ignore_facets, separator, num_threads, quiet, add_measures, globus_endpoint, globus_path, operators)\u001b[0m\n\u001b[1;32m    688\u001b[0m \u001b[38;5;28;01mif\u001b[39;00m add_measures:\n\u001b[1;32m    689\u001b[0m     \u001b[38;5;28;01mfor\u001b[39;00m key \u001b[38;5;129;01min\u001b[39;00m tqdm(\n\u001b[1;32m    690\u001b[0m         ds,\n\u001b[1;32m    691\u001b[0m         disable\u001b[38;5;241m=\u001b[39mquiet,\n\u001b[0;32m   (...)\u001b[0m\n\u001b[1;32m    697\u001b[0m         total\u001b[38;5;241m=\u001b[39m\u001b[38;5;28mlen\u001b[39m(ds),\n\u001b[1;32m    698\u001b[0m     ):\n\u001b[0;32m--> 699\u001b[0m         ds[key] \u001b[38;5;241m=\u001b[39m \u001b[43madd_cell_measures\u001b[49m\u001b[43m(\u001b[49m\u001b[43mds\u001b[49m\u001b[43m[\u001b[49m\u001b[43mkey\u001b[49m\u001b[43m]\u001b[49m\u001b[43m,\u001b[49m\u001b[43m \u001b[49m\u001b[38;5;28;43mself\u001b[39;49m\u001b[43m)\u001b[49m\n\u001b[1;32m    701\u001b[0m \u001b[38;5;66;03m# If the user specifies operators, apply them now\u001b[39;00m\n\u001b[1;32m    702\u001b[0m \u001b[38;5;28;01mfor\u001b[39;00m op \u001b[38;5;129;01min\u001b[39;00m operators:\n",
      "File \u001b[0;32m~/esg/git-repos/intake-esgf/intake_esgf/base.py:270\u001b[0m, in \u001b[0;36madd_cell_measures\u001b[0;34m(ds, catalog)\u001b[0m\n\u001b[1;32m    268\u001b[0m \u001b[38;5;28;01mfor\u001b[39;00m add \u001b[38;5;129;01min\u001b[39;00m to_add:\n\u001b[1;32m    269\u001b[0m     \u001b[38;5;28;01mtry\u001b[39;00m:\n\u001b[0;32m--> 270\u001b[0m         ds \u001b[38;5;241m=\u001b[39m \u001b[43madd_variable\u001b[49m\u001b[43m(\u001b[49m\u001b[43madd\u001b[49m\u001b[43m,\u001b[49m\u001b[43m \u001b[49m\u001b[43mds\u001b[49m\u001b[43m,\u001b[49m\u001b[43m \u001b[49m\u001b[43mcatalog\u001b[49m\u001b[43m)\u001b[49m\n\u001b[1;32m    271\u001b[0m     \u001b[38;5;28;01mexcept\u001b[39;00m NoSearchResults:\n\u001b[1;32m    272\u001b[0m         \u001b[38;5;28;01mpass\u001b[39;00m\n",
      "File \u001b[0;32m~/esg/git-repos/intake-esgf/intake_esgf/base.py:231\u001b[0m, in \u001b[0;36madd_variable\u001b[0;34m(variable_id, ds, catalog)\u001b[0m\n\u001b[1;32m    228\u001b[0m                 \u001b[38;5;28;01mbreak\u001b[39;00m\n\u001b[1;32m    229\u001b[0m \u001b[38;5;66;03m# many times the coordinates of the measures differ in only precision of the\u001b[39;00m\n\u001b[1;32m    230\u001b[0m \u001b[38;5;66;03m# variables and will lead to unexpected merged results\u001b[39;00m\n\u001b[0;32m--> 231\u001b[0m var \u001b[38;5;241m=\u001b[39m \u001b[43mcat\u001b[49m\u001b[38;5;241;43m.\u001b[39;49m\u001b[43mto_dataset_dict\u001b[49m\u001b[43m(\u001b[49m\u001b[43mquiet\u001b[49m\u001b[38;5;241;43m=\u001b[39;49m\u001b[38;5;28;43;01mFalse\u001b[39;49;00m\u001b[43m,\u001b[49m\u001b[43m \u001b[49m\u001b[43madd_measures\u001b[49m\u001b[38;5;241;43m=\u001b[39;49m\u001b[38;5;28;43;01mFalse\u001b[39;49;00m\u001b[43m)\u001b[49m\u001b[43m[\u001b[49m\u001b[43mvariable_id\u001b[49m\u001b[43m]\u001b[49m\n\u001b[1;32m    232\u001b[0m var \u001b[38;5;241m=\u001b[39m var\u001b[38;5;241m.\u001b[39mreindex_like(ds, method\u001b[38;5;241m=\u001b[39m\u001b[38;5;124m\"\u001b[39m\u001b[38;5;124mnearest\u001b[39m\u001b[38;5;124m\"\u001b[39m, tolerance\u001b[38;5;241m=\u001b[39m\u001b[38;5;241m1e-6\u001b[39m)\n\u001b[1;32m    233\u001b[0m ds \u001b[38;5;241m=\u001b[39m xr\u001b[38;5;241m.\u001b[39mmerge([ds, var[variable_id]])\n",
      "\u001b[0;31mKeyError\u001b[0m: 'areacella'"
     ]
    }
   ],
   "source": [
    "dsets = subset.to_dataset_dict()"
   ]
  },
  {
   "cell_type": "markdown",
   "id": "b4f49312-e5d7-4200-ad62-9603c3b8093b",
   "metadata": {},
   "source": [
    "### Extract the GPP Dataset\n",
    "We are interested in the Carbon Mass Flux out of Atmosphere Due to Gross Primary Production on Land (GPP) variable. We need to extract this from the dictionary of datasets using the following:"
   ]
  },
  {
   "cell_type": "code",
   "execution_count": 5,
   "id": "8eb3d4d6-849b-4d42-9fdf-6320d70e191c",
   "metadata": {},
   "outputs": [
    {
     "ename": "NameError",
     "evalue": "name 'dsets' is not defined",
     "output_type": "error",
     "traceback": [
      "\u001b[0;31m---------------------------------------------------------------------------\u001b[0m",
      "\u001b[0;31mNameError\u001b[0m                                 Traceback (most recent call last)",
      "Cell \u001b[0;32mIn[5], line 1\u001b[0m\n\u001b[0;32m----> 1\u001b[0m gpp_ds \u001b[38;5;241m=\u001b[39m \u001b[43mdsets\u001b[49m[\u001b[38;5;124m'\u001b[39m\u001b[38;5;124mLmon.gpp\u001b[39m\u001b[38;5;124m'\u001b[39m]\n",
      "\u001b[0;31mNameError\u001b[0m: name 'dsets' is not defined"
     ]
    }
   ],
   "source": [
    "gpp_ds = dsets['Lmon.gpp']"
   ]
  },
  {
   "cell_type": "markdown",
   "id": "9866e53f-7734-4dfa-beb3-ca760ae43054",
   "metadata": {},
   "source": [
    "## Apply a Computation\n",
    "Let's calculate a monthly average across the historical record. We first define which years we are interested in (ex. 1980 - 2010), then calculate the monthly average."
   ]
  },
  {
   "cell_type": "code",
   "execution_count": null,
   "id": "075a9f7b-5136-4652-b50a-0e37b5269411",
   "metadata": {},
   "outputs": [],
   "source": [
    "gpp_monthly_ds = gpp_ds.sel(time=slice(\"1980\", \"2010\")).groupby(\"time.month\").mean()\n",
    "gpp_monthly_ds"
   ]
  },
  {
   "cell_type": "markdown",
   "id": "6db70f2c-fc11-44c3-8bc2-d71329c34ca0",
   "metadata": {},
   "source": [
    "### Rename our Months\n",
    "We are interested in more useful month names. We can fix this by adding in three letter month identifiers."
   ]
  },
  {
   "cell_type": "code",
   "execution_count": null,
   "id": "30dcafea-0e98-4d18-9b61-f9afec611733",
   "metadata": {},
   "outputs": [],
   "source": [
    "gpp_monthly_ds[\"month\"] = ['Jan', 'Feb', 'Mar', 'Apr', 'May', 'Jun', 'Jul', 'Aug', 'Sep', 'Oct', 'Nov', 'Dec']"
   ]
  },
  {
   "cell_type": "markdown",
   "id": "62c1dd47-1dfd-4958-9555-79b8e207c755",
   "metadata": {},
   "source": [
    "## Visualize the Output\n",
    "We can specify plotting by the month, with four months in each row."
   ]
  },
  {
   "cell_type": "code",
   "execution_count": null,
   "id": "30bf3767-afe4-42dc-973e-1a4fa29b4580",
   "metadata": {},
   "outputs": [],
   "source": [
    "gpp_monthly_ds.gpp.plot(col='month',\n",
    "                        col_wrap=4,\n",
    "                        robust=True);"
   ]
  }
 ],
 "metadata": {
  "kernelspec": {
   "display_name": "Python 3 (ipykernel)",
   "language": "python",
   "name": "python3"
  },
  "language_info": {
   "codemirror_mode": {
    "name": "ipython",
    "version": 3
   },
   "file_extension": ".py",
   "mimetype": "text/x-python",
   "name": "python",
   "nbconvert_exporter": "python",
   "pygments_lexer": "ipython3",
   "version": "3.12.3"
  }
 },
 "nbformat": 4,
 "nbformat_minor": 5
}
